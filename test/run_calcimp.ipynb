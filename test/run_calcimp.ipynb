{
 "cells": [
  {
   "cell_type": "code",
   "execution_count": 11,
   "metadata": {},
   "outputs": [
    {
     "name": "stderr",
     "output_type": "stream",
     "text": [
      "WARNING: replacing module Calcimp.\n"
     ]
    },
    {
     "data": {
      "text/plain": [
       "Main.Calcimp"
      ]
     },
     "execution_count": 11,
     "metadata": {},
     "output_type": "execute_result"
    },
    {
     "name": "stderr",
     "output_type": "stream",
     "text": [
      "WARNING: both Calcimp and Calcimp export \"initcalcparam\"; uses of it in module Main must be qualified\n"
     ]
    }
   ],
   "source": [
    "include(\"../src/calcimp.jl\")"
   ]
  },
  {
   "cell_type": "code",
   "execution_count": 12,
   "metadata": {},
   "outputs": [
    {
     "data": {
      "text/html": [
       "<table class=\"data-frame\"><thead><tr><th></th><th>frq</th><th>imp</th></tr></thead><tbody><tr><th>1</th><td>0.0</td><td>0.0+0.0im</td></tr><tr><th>2</th><td>2.5</td><td>3.20225+22.4761im</td></tr><tr><th>3</th><td>5.0</td><td>4.79165+42.9347im</td></tr><tr><th>4</th><td>7.5</td><td>6.07926+63.2161im</td></tr><tr><th>5</th><td>10.0</td><td>7.24141+83.5969im</td></tr><tr><th>6</th><td>12.5</td><td>8.35513+104.245im</td></tr><tr><th>7</th><td>15.0</td><td>9.46691+125.3im</td></tr><tr><th>8</th><td>17.5</td><td>10.6112+146.895im</td></tr><tr><th>9</th><td>20.0</td><td>11.8177+169.169im</td></tr><tr><th>10</th><td>22.5</td><td>13.1152+192.269im</td></tr><tr><th>11</th><td>25.0</td><td>14.5339+216.36im</td></tr><tr><th>12</th><td>27.5</td><td>16.1075+241.627im</td></tr><tr><th>13</th><td>30.0</td><td>17.8757+268.283im</td></tr><tr><th>14</th><td>32.5</td><td>19.8861+296.578im</td></tr><tr><th>15</th><td>35.0</td><td>22.1977+326.807im</td></tr><tr><th>16</th><td>37.5</td><td>24.8851+359.324im</td></tr><tr><th>17</th><td>40.0</td><td>28.0441+394.559im</td></tr><tr><th>18</th><td>42.5</td><td>31.8005+433.044im</td></tr><tr><th>19</th><td>45.0</td><td>36.3221+475.439im</td></tr><tr><th>20</th><td>47.5</td><td>41.837+522.583im</td></tr><tr><th>21</th><td>50.0</td><td>48.6622+575.558im</td></tr><tr><th>22</th><td>52.5</td><td>57.2483+635.78im</td></tr><tr><th>23</th><td>55.0</td><td>68.2533+705.146im</td></tr><tr><th>24</th><td>57.5</td><td>82.6671+786.25im</td></tr><tr><th>25</th><td>60.0</td><td>102.033+882.736im</td></tr><tr><th>26</th><td>62.5</td><td>128.863+999.876im</td></tr><tr><th>27</th><td>65.0</td><td>167.451+1145.56im</td></tr><tr><th>28</th><td>67.5</td><td>225.62+1332.08im</td></tr><tr><th>29</th><td>70.0</td><td>318.771+1579.46im</td></tr><tr><th>30</th><td>72.5</td><td>480.406+1921.68im</td></tr><tr><th>&vellip;</th><td>&vellip;</td><td>&vellip;</td></tr></tbody></table>"
      ],
      "text/plain": [
       "801×2 DataFrames.DataFrame\n",
       "│ Row │ frq     │ imp               │\n",
       "│     │ \u001b[90mFloat64\u001b[39m │ \u001b[90mComplex{Float64}\u001b[39m  │\n",
       "├─────┼─────────┼───────────────────┤\n",
       "│ 1   │ 0.0     │ 0.0+0.0im         │\n",
       "│ 2   │ 2.5     │ 3.20225+22.4761im │\n",
       "│ 3   │ 5.0     │ 4.79165+42.9347im │\n",
       "│ 4   │ 7.5     │ 6.07926+63.2161im │\n",
       "│ 5   │ 10.0    │ 7.24141+83.5969im │\n",
       "│ 6   │ 12.5    │ 8.35513+104.245im │\n",
       "│ 7   │ 15.0    │ 9.46691+125.3im   │\n",
       "│ 8   │ 17.5    │ 10.6112+146.895im │\n",
       "│ 9   │ 20.0    │ 11.8177+169.169im │\n",
       "│ 10  │ 22.5    │ 13.1152+192.269im │\n",
       "⋮\n",
       "│ 791 │ 1975.0  │ 1260.05-596.801im │\n",
       "│ 792 │ 1977.5  │ 1091.03-684.914im │\n",
       "│ 793 │ 1980.0  │ 931.853-723.514im │\n",
       "│ 794 │ 1982.5  │ 792.433-727.747im │\n",
       "│ 795 │ 1985.0  │ 675.068-710.463im │\n",
       "│ 796 │ 1987.5  │ 578.23-680.864im  │\n",
       "│ 797 │ 1990.0  │ 498.99-644.964im  │\n",
       "│ 798 │ 1992.5  │ 434.241-606.465im │\n",
       "│ 799 │ 1995.0  │ 381.196-567.546im │\n",
       "│ 800 │ 1997.5  │ 337.532-529.428im │\n",
       "│ 801 │ 2000.0  │ 301.382-492.751im │"
      ]
     },
     "execution_count": 12,
     "metadata": {},
     "output_type": "execute_result"
    }
   ],
   "source": [
    "imp = Calcimpcimp.calcimp(\"../sample/simple.xmen\")"
   ]
  },
  {
   "cell_type": "code",
   "execution_count": 17,
   "metadata": {
    "collapsed": true
   },
   "outputs": [
    {
     "name": "stdout",
     "output_type": "stream",
     "text": [
      "  0.186336 seconds (2.06 M allocations: 35.074 MiB, 6.75% gc time)\n"
     ]
    },
    {
     "data": {
      "text/html": [
       "<table class=\"data-frame\"><thead><tr><th></th><th>frq</th><th>imp</th></tr></thead><tbody><tr><th>1</th><td>0.0</td><td>0.0+0.0im</td></tr><tr><th>2</th><td>2.5</td><td>3.20225+22.4761im</td></tr><tr><th>3</th><td>5.0</td><td>4.79165+42.9347im</td></tr><tr><th>4</th><td>7.5</td><td>6.07926+63.2161im</td></tr><tr><th>5</th><td>10.0</td><td>7.24141+83.5969im</td></tr><tr><th>6</th><td>12.5</td><td>8.35513+104.245im</td></tr><tr><th>7</th><td>15.0</td><td>9.46691+125.3im</td></tr><tr><th>8</th><td>17.5</td><td>10.6112+146.895im</td></tr><tr><th>9</th><td>20.0</td><td>11.8177+169.169im</td></tr><tr><th>10</th><td>22.5</td><td>13.1152+192.269im</td></tr><tr><th>11</th><td>25.0</td><td>14.5339+216.36im</td></tr><tr><th>12</th><td>27.5</td><td>16.1075+241.627im</td></tr><tr><th>13</th><td>30.0</td><td>17.8757+268.283im</td></tr><tr><th>14</th><td>32.5</td><td>19.8861+296.578im</td></tr><tr><th>15</th><td>35.0</td><td>22.1977+326.807im</td></tr><tr><th>16</th><td>37.5</td><td>24.8851+359.324im</td></tr><tr><th>17</th><td>40.0</td><td>28.0441+394.559im</td></tr><tr><th>18</th><td>42.5</td><td>31.8005+433.044im</td></tr><tr><th>19</th><td>45.0</td><td>36.3221+475.439im</td></tr><tr><th>20</th><td>47.5</td><td>41.837+522.583im</td></tr><tr><th>21</th><td>50.0</td><td>48.6622+575.558im</td></tr><tr><th>22</th><td>52.5</td><td>57.2483+635.78im</td></tr><tr><th>23</th><td>55.0</td><td>68.2533+705.146im</td></tr><tr><th>24</th><td>57.5</td><td>82.6671+786.25im</td></tr><tr><th>25</th><td>60.0</td><td>102.033+882.736im</td></tr><tr><th>26</th><td>62.5</td><td>128.863+999.876im</td></tr><tr><th>27</th><td>65.0</td><td>167.451+1145.56im</td></tr><tr><th>28</th><td>67.5</td><td>225.62+1332.08im</td></tr><tr><th>29</th><td>70.0</td><td>318.771+1579.46im</td></tr><tr><th>30</th><td>72.5</td><td>480.406+1921.68im</td></tr><tr><th>&vellip;</th><td>&vellip;</td><td>&vellip;</td></tr></tbody></table>"
      ],
      "text/plain": [
       "801×2 DataFrame\n",
       "│ Row │ frq     │ imp               │\n",
       "│     │ \u001b[90mFloat64\u001b[39m │ \u001b[90mComplex{Float64}\u001b[39m  │\n",
       "├─────┼─────────┼───────────────────┤\n",
       "│ 1   │ 0.0     │ 0.0+0.0im         │\n",
       "│ 2   │ 2.5     │ 3.20225+22.4761im │\n",
       "│ 3   │ 5.0     │ 4.79165+42.9347im │\n",
       "│ 4   │ 7.5     │ 6.07926+63.2161im │\n",
       "│ 5   │ 10.0    │ 7.24141+83.5969im │\n",
       "│ 6   │ 12.5    │ 8.35513+104.245im │\n",
       "│ 7   │ 15.0    │ 9.46691+125.3im   │\n",
       "│ 8   │ 17.5    │ 10.6112+146.895im │\n",
       "│ 9   │ 20.0    │ 11.8177+169.169im │\n",
       "│ 10  │ 22.5    │ 13.1152+192.269im │\n",
       "⋮\n",
       "│ 791 │ 1975.0  │ 1260.05-596.801im │\n",
       "│ 792 │ 1977.5  │ 1091.03-684.914im │\n",
       "│ 793 │ 1980.0  │ 931.853-723.514im │\n",
       "│ 794 │ 1982.5  │ 792.433-727.747im │\n",
       "│ 795 │ 1985.0  │ 675.068-710.463im │\n",
       "│ 796 │ 1987.5  │ 578.23-680.864im  │\n",
       "│ 797 │ 1990.0  │ 498.99-644.964im  │\n",
       "│ 798 │ 1992.5  │ 434.241-606.465im │\n",
       "│ 799 │ 1995.0  │ 381.196-567.546im │\n",
       "│ 800 │ 1997.5  │ 337.532-529.428im │\n",
       "│ 801 │ 2000.0  │ 301.382-492.751im │"
      ]
     },
     "execution_count": 17,
     "metadata": {},
     "output_type": "execute_result"
    }
   ],
   "source": [
    "@time Calcimp.calcimp(\"../sample/simple.xmen\")"
   ]
  },
  {
   "cell_type": "code",
   "execution_count": 14,
   "metadata": {},
   "outputs": [
    {
     "data": {
      "text/html": [
       "<table class=\"data-frame\"><thead><tr><th></th><th>frq</th><th>imp</th></tr></thead><tbody><tr><th>1</th><td>0.0</td><td>0.0+0.0im</td></tr><tr><th>2</th><td>2.5</td><td>3.20225+22.4761im</td></tr><tr><th>3</th><td>5.0</td><td>4.79165+42.9347im</td></tr><tr><th>4</th><td>7.5</td><td>6.07926+63.2161im</td></tr><tr><th>5</th><td>10.0</td><td>7.24141+83.5969im</td></tr><tr><th>6</th><td>12.5</td><td>8.35513+104.245im</td></tr></tbody></table>"
      ],
      "text/plain": [
       "6×2 DataFrame\n",
       "│ Row │ frq     │ imp               │\n",
       "│     │ \u001b[90mFloat64\u001b[39m │ \u001b[90mComplex{Float64}\u001b[39m  │\n",
       "├─────┼─────────┼───────────────────┤\n",
       "│ 1   │ 0.0     │ 0.0+0.0im         │\n",
       "│ 2   │ 2.5     │ 3.20225+22.4761im │\n",
       "│ 3   │ 5.0     │ 4.79165+42.9347im │\n",
       "│ 4   │ 7.5     │ 6.07926+63.2161im │\n",
       "│ 5   │ 10.0    │ 7.24141+83.5969im │\n",
       "│ 6   │ 12.5    │ 8.35513+104.245im │"
      ]
     },
     "execution_count": 14,
     "metadata": {},
     "output_type": "execute_result"
    }
   ],
   "source": [
    "using DataFrames\n",
    "head(imp)"
   ]
  },
  {
   "cell_type": "code",
   "execution_count": 16,
   "metadata": {},
   "outputs": [
    {
     "data": {
      "text/html": [
       "<table class=\"data-frame\"><thead><tr><th></th><th>frq</th><th>imp</th><th>rel</th><th>img</th><th>mag</th></tr></thead><tbody><tr><th>1</th><td>0.0</td><td>0.0+0.0im</td><td>0.0</td><td>0.0</td><td>-Inf</td></tr><tr><th>2</th><td>2.5</td><td>3.20225+22.4761im</td><td>3.20225</td><td>22.4761</td><td>27.1217</td></tr><tr><th>3</th><td>5.0</td><td>4.79165+42.9347im</td><td>4.79165</td><td>42.9347</td><td>32.7099</td></tr><tr><th>4</th><td>7.5</td><td>6.07926+63.2161im</td><td>6.07926</td><td>63.2161</td><td>36.0565</td></tr><tr><th>5</th><td>10.0</td><td>7.24141+83.5969im</td><td>7.24141</td><td>83.5969</td><td>38.4763</td></tr><tr><th>6</th><td>12.5</td><td>8.35513+104.245im</td><td>8.35513</td><td>104.245</td><td>40.3889</td></tr></tbody></table>"
      ],
      "text/plain": [
       "6×5 DataFrame\n",
       "│ Row │ frq     │ imp               │ rel     │ img     │ mag     │\n",
       "│     │ \u001b[90mFloat64\u001b[39m │ \u001b[90mComplex{Float64}\u001b[39m  │ \u001b[90mFloat64\u001b[39m │ \u001b[90mFloat64\u001b[39m │ \u001b[90mFloat64\u001b[39m │\n",
       "├─────┼─────────┼───────────────────┼─────────┼─────────┼─────────┤\n",
       "│ 1   │ 0.0     │ 0.0+0.0im         │ 0.0     │ 0.0     │ -Inf    │\n",
       "│ 2   │ 2.5     │ 3.20225+22.4761im │ 3.20225 │ 22.4761 │ 27.1217 │\n",
       "│ 3   │ 5.0     │ 4.79165+42.9347im │ 4.79165 │ 42.9347 │ 32.7099 │\n",
       "│ 4   │ 7.5     │ 6.07926+63.2161im │ 6.07926 │ 63.2161 │ 36.0565 │\n",
       "│ 5   │ 10.0    │ 7.24141+83.5969im │ 7.24141 │ 83.5969 │ 38.4763 │\n",
       "│ 6   │ 12.5    │ 8.35513+104.245im │ 8.35513 │ 104.245 │ 40.3889 │"
      ]
     },
     "execution_count": 16,
     "metadata": {},
     "output_type": "execute_result"
    }
   ],
   "source": [
    "imp[:rel] = real.(imp[:imp])\n",
    "imp[:img] = imag.(imp[:imp])\n",
    "imp[:mag] = 20log10.(abs.(imp[:imp]))\n",
    "head(imp)"
   ]
  },
  {
   "cell_type": "code",
   "execution_count": 18,
   "metadata": {},
   "outputs": [
    {
     "data": {
      "text/html": [
       "<table class=\"data-frame\"><thead><tr><th></th><th>frq</th><th>imp</th></tr></thead><tbody><tr><th>1</th><td>0.0</td><td>0.0+0.0im</td></tr><tr><th>2</th><td>2.5</td><td>0.744428+7.08113im</td></tr><tr><th>3</th><td>5.0</td><td>1.09453+13.6905im</td></tr><tr><th>4</th><td>7.5</td><td>1.36822+20.2368im</td></tr><tr><th>5</th><td>10.0</td><td>1.60393+26.7699im</td></tr><tr><th>6</th><td>12.5</td><td>1.81714+33.3151im</td></tr><tr><th>7</th><td>15.0</td><td>2.0161+39.8903im</td></tr><tr><th>8</th><td>17.5</td><td>2.20599+46.5106im</td></tr><tr><th>9</th><td>20.0</td><td>2.39042+53.1898im</td></tr><tr><th>10</th><td>22.5</td><td>2.57215+59.9414im</td></tr><tr><th>11</th><td>25.0</td><td>2.7534+66.7788im</td></tr><tr><th>12</th><td>27.5</td><td>2.93611+73.7161im</td></tr><tr><th>13</th><td>30.0</td><td>3.12206+80.7679im</td></tr><tr><th>14</th><td>32.5</td><td>3.31293+87.9497im</td></tr><tr><th>15</th><td>35.0</td><td>3.51041+95.2781im</td></tr><tr><th>16</th><td>37.5</td><td>3.71623+102.771im</td></tr><tr><th>17</th><td>40.0</td><td>3.93223+110.449im</td></tr><tr><th>18</th><td>42.5</td><td>4.16041+118.333im</td></tr><tr><th>19</th><td>45.0</td><td>4.40296+126.447im</td></tr><tr><th>20</th><td>47.5</td><td>4.66239+134.818im</td></tr><tr><th>21</th><td>50.0</td><td>4.94152+143.475im</td></tr><tr><th>22</th><td>52.5</td><td>5.24364+152.454im</td></tr><tr><th>23</th><td>55.0</td><td>5.57256+161.792im</td></tr><tr><th>24</th><td>57.5</td><td>5.9328+171.533im</td></tr><tr><th>25</th><td>60.0</td><td>6.32973+181.728im</td></tr><tr><th>26</th><td>62.5</td><td>6.76981+192.434im</td></tr><tr><th>27</th><td>65.0</td><td>7.2609+203.72im</td></tr><tr><th>28</th><td>67.5</td><td>7.81257+215.666im</td></tr><tr><th>29</th><td>70.0</td><td>8.43672+228.365im</td></tr><tr><th>30</th><td>72.5</td><td>9.1482+241.931im</td></tr><tr><th>&vellip;</th><td>&vellip;</td><td>&vellip;</td></tr></tbody></table>"
      ],
      "text/plain": [
       "801×2 DataFrame\n",
       "│ Row │ frq     │ imp                │\n",
       "│     │ \u001b[90mFloat64\u001b[39m │ \u001b[90mComplex{Float64}\u001b[39m   │\n",
       "├─────┼─────────┼────────────────────┤\n",
       "│ 1   │ 0.0     │ 0.0+0.0im          │\n",
       "│ 2   │ 2.5     │ 0.744428+7.08113im │\n",
       "│ 3   │ 5.0     │ 1.09453+13.6905im  │\n",
       "│ 4   │ 7.5     │ 1.36822+20.2368im  │\n",
       "│ 5   │ 10.0    │ 1.60393+26.7699im  │\n",
       "│ 6   │ 12.5    │ 1.81714+33.3151im  │\n",
       "│ 7   │ 15.0    │ 2.0161+39.8903im   │\n",
       "│ 8   │ 17.5    │ 2.20599+46.5106im  │\n",
       "│ 9   │ 20.0    │ 2.39042+53.1898im  │\n",
       "│ 10  │ 22.5    │ 2.57215+59.9414im  │\n",
       "⋮\n",
       "│ 791 │ 1975.0  │ 1345.4-885.484im   │\n",
       "│ 792 │ 1977.5  │ 1090.04-932.627im  │\n",
       "│ 793 │ 1980.0  │ 880.605-919.542im  │\n",
       "│ 794 │ 1982.5  │ 716.418-875.798im  │\n",
       "│ 795 │ 1985.0  │ 589.685-819.001im  │\n",
       "│ 796 │ 1987.5  │ 491.911-758.57im   │\n",
       "│ 797 │ 1990.0  │ 415.962-699.165im  │\n",
       "│ 798 │ 1992.5  │ 356.365-642.884im  │\n",
       "│ 799 │ 1995.0  │ 309.068-590.502im  │\n",
       "│ 800 │ 1997.5  │ 271.105-542.138im  │\n",
       "│ 801 │ 2000.0  │ 240.303-497.603im  │"
      ]
     },
     "execution_count": 18,
     "metadata": {},
     "output_type": "execute_result"
    }
   ],
   "source": [
    "Calcimp.calcimp(\"../sample/taper.xmen\")"
   ]
  },
  {
   "cell_type": "code",
   "execution_count": 19,
   "metadata": {},
   "outputs": [
    {
     "name": "stderr",
     "output_type": "stream",
     "text": [
      "┌ Info: Recompiling stale cache file /home/yoshinobu/.julia/compiled/v1.0/CSV/HHBkp.ji for CSV [336ed68f-0bac-5ca0-87d4-7b16caf5d00b]\n",
      "└ @ Base loading.jl:1187\n"
     ]
    }
   ],
   "source": [
    "using CSV"
   ]
  },
  {
   "cell_type": "code",
   "execution_count": 20,
   "metadata": {},
   "outputs": [
    {
     "data": {
      "text/html": [
       "<table class=\"data-frame\"><thead><tr><th></th><th>freq</th><th>imp.real</th><th>imp.imag</th><th>mag</th></tr></thead><tbody><tr><th>1</th><td>0.0</td><td>0.0</td><td>0.0</td><td>0.0</td></tr><tr><th>2</th><td>2.5</td><td>0.744428</td><td>7.08113</td><td>17.0498</td></tr><tr><th>3</th><td>5.0</td><td>1.09453</td><td>13.6905</td><td>22.7561</td></tr><tr><th>4</th><td>7.5</td><td>1.36822</td><td>20.2368</td><td>26.1426</td></tr><tr><th>5</th><td>10.0</td><td>1.60393</td><td>26.7699</td><td>28.5685</td></tr><tr><th>6</th><td>12.5</td><td>1.81714</td><td>33.3151</td><td>30.4657</td></tr><tr><th>7</th><td>15.0</td><td>2.0161</td><td>39.8903</td><td>32.0284</td></tr><tr><th>8</th><td>17.5</td><td>2.20599</td><td>46.5106</td><td>33.3608</td></tr><tr><th>9</th><td>20.0</td><td>2.39042</td><td>53.1898</td><td>34.5253</td></tr><tr><th>10</th><td>22.5</td><td>2.57215</td><td>59.9414</td><td>35.5625</td></tr><tr><th>11</th><td>25.0</td><td>2.7534</td><td>66.7788</td><td>36.5002</td></tr><tr><th>12</th><td>27.5</td><td>2.93611</td><td>73.7161</td><td>37.3581</td></tr><tr><th>13</th><td>30.0</td><td>3.12206</td><td>80.7679</td><td>38.1513</td></tr><tr><th>14</th><td>32.5</td><td>3.31293</td><td>87.9497</td><td>38.8908</td></tr><tr><th>15</th><td>35.0</td><td>3.51041</td><td>95.2781</td><td>39.5858</td></tr><tr><th>16</th><td>37.5</td><td>3.71623</td><td>102.771</td><td>40.2431</td></tr><tr><th>17</th><td>40.0</td><td>3.93223</td><td>110.449</td><td>40.8687</td></tr><tr><th>18</th><td>42.5</td><td>4.16041</td><td>118.333</td><td>41.4675</td></tr><tr><th>19</th><td>45.0</td><td>4.40296</td><td>126.447</td><td>42.0434</td></tr><tr><th>20</th><td>47.5</td><td>4.66239</td><td>134.818</td><td>42.6001</td></tr><tr><th>21</th><td>50.0</td><td>4.94152</td><td>143.475</td><td>43.1407</td></tr><tr><th>22</th><td>52.5</td><td>5.24364</td><td>152.454</td><td>43.6679</td></tr><tr><th>23</th><td>55.0</td><td>5.57256</td><td>161.792</td><td>44.1843</td></tr><tr><th>24</th><td>57.5</td><td>5.9328</td><td>171.533</td><td>44.6921</td></tr><tr><th>25</th><td>60.0</td><td>6.32973</td><td>181.728</td><td>45.1937</td></tr><tr><th>26</th><td>62.5</td><td>6.76981</td><td>192.434</td><td>45.691</td></tr><tr><th>27</th><td>65.0</td><td>7.2609</td><td>203.72</td><td>46.1862</td></tr><tr><th>28</th><td>67.5</td><td>7.81257</td><td>215.666</td><td>46.6813</td></tr><tr><th>29</th><td>70.0</td><td>8.43672</td><td>228.365</td><td>47.1785</td></tr><tr><th>30</th><td>72.5</td><td>9.1482</td><td>241.931</td><td>47.68</td></tr><tr><th>&vellip;</th><td>&vellip;</td><td>&vellip;</td><td>&vellip;</td><td>&vellip;</td></tr></tbody></table>"
      ],
      "text/plain": [
       "801×4 DataFrame\n",
       "│ Row │ freq     │ imp.real │ imp.imag │ mag      │\n",
       "│     │ \u001b[90mFloat64⍰\u001b[39m │ \u001b[90mFloat64⍰\u001b[39m │ \u001b[90mFloat64⍰\u001b[39m │ \u001b[90mFloat64⍰\u001b[39m │\n",
       "├─────┼──────────┼──────────┼──────────┼──────────┤\n",
       "│ 1   │ 0.0      │ 0.0      │ 0.0      │ 0.0      │\n",
       "│ 2   │ 2.5      │ 0.744428 │ 7.08113  │ 17.0498  │\n",
       "│ 3   │ 5.0      │ 1.09453  │ 13.6905  │ 22.7561  │\n",
       "│ 4   │ 7.5      │ 1.36822  │ 20.2368  │ 26.1426  │\n",
       "│ 5   │ 10.0     │ 1.60393  │ 26.7699  │ 28.5685  │\n",
       "│ 6   │ 12.5     │ 1.81714  │ 33.3151  │ 30.4657  │\n",
       "│ 7   │ 15.0     │ 2.0161   │ 39.8903  │ 32.0284  │\n",
       "│ 8   │ 17.5     │ 2.20599  │ 46.5106  │ 33.3608  │\n",
       "│ 9   │ 20.0     │ 2.39042  │ 53.1898  │ 34.5253  │\n",
       "│ 10  │ 22.5     │ 2.57215  │ 59.9414  │ 35.5625  │\n",
       "⋮\n",
       "│ 791 │ 1975.0   │ 1345.4   │ -885.484 │ 64.14    │\n",
       "│ 792 │ 1977.5   │ 1090.04  │ -932.627 │ 63.1344  │\n",
       "│ 793 │ 1980.0   │ 880.605  │ -919.542 │ 62.0979  │\n",
       "│ 794 │ 1982.5   │ 716.418  │ -875.798 │ 61.073   │\n",
       "│ 795 │ 1985.0   │ 589.685  │ -819.001 │ 60.0796  │\n",
       "│ 796 │ 1987.5   │ 491.911  │ -758.57  │ 59.1244  │\n",
       "│ 797 │ 1990.0   │ 415.962  │ -699.165 │ 58.2076  │\n",
       "│ 798 │ 1992.5   │ 356.365  │ -642.884 │ 57.3263  │\n",
       "│ 799 │ 1995.0   │ 309.068  │ -590.502 │ 56.4759  │\n",
       "│ 800 │ 1997.5   │ 271.105  │ -542.138 │ 55.6515  │\n",
       "│ 801 │ 2000.0   │ 240.303  │ -497.603 │ 54.848   │"
      ]
     },
     "execution_count": 20,
     "metadata": {},
     "output_type": "execute_result"
    }
   ],
   "source": [
    "ctpr = CSV.read(\"../sample/taper-c.imp\")"
   ]
  },
  {
   "cell_type": "code",
   "execution_count": 21,
   "metadata": {},
   "outputs": [
    {
     "name": "stdout",
     "output_type": "stream",
     "text": [
      "  2.335062 seconds (7.29 M allocations: 313.730 MiB, 7.20% gc time)\n"
     ]
    },
    {
     "data": {
      "text/html": [
       "<table class=\"data-frame\"><thead><tr><th></th><th>frq</th><th>imp</th></tr></thead><tbody><tr><th>1</th><td>0.0</td><td>0.0+0.0im</td></tr><tr><th>2</th><td>2.5</td><td>0.744428+7.08113im</td></tr><tr><th>3</th><td>5.0</td><td>1.09453+13.6905im</td></tr><tr><th>4</th><td>7.5</td><td>1.36822+20.2368im</td></tr><tr><th>5</th><td>10.0</td><td>1.60393+26.7699im</td></tr><tr><th>6</th><td>12.5</td><td>1.81714+33.3151im</td></tr><tr><th>7</th><td>15.0</td><td>2.0161+39.8903im</td></tr><tr><th>8</th><td>17.5</td><td>2.20599+46.5106im</td></tr><tr><th>9</th><td>20.0</td><td>2.39042+53.1898im</td></tr><tr><th>10</th><td>22.5</td><td>2.57215+59.9414im</td></tr><tr><th>11</th><td>25.0</td><td>2.7534+66.7788im</td></tr><tr><th>12</th><td>27.5</td><td>2.93611+73.7161im</td></tr><tr><th>13</th><td>30.0</td><td>3.12206+80.7679im</td></tr><tr><th>14</th><td>32.5</td><td>3.31293+87.9497im</td></tr><tr><th>15</th><td>35.0</td><td>3.51041+95.2781im</td></tr><tr><th>16</th><td>37.5</td><td>3.71623+102.771im</td></tr><tr><th>17</th><td>40.0</td><td>3.93223+110.449im</td></tr><tr><th>18</th><td>42.5</td><td>4.16041+118.333im</td></tr><tr><th>19</th><td>45.0</td><td>4.40296+126.447im</td></tr><tr><th>20</th><td>47.5</td><td>4.66239+134.818im</td></tr><tr><th>21</th><td>50.0</td><td>4.94152+143.475im</td></tr><tr><th>22</th><td>52.5</td><td>5.24364+152.454im</td></tr><tr><th>23</th><td>55.0</td><td>5.57256+161.792im</td></tr><tr><th>24</th><td>57.5</td><td>5.9328+171.533im</td></tr><tr><th>25</th><td>60.0</td><td>6.32973+181.728im</td></tr><tr><th>26</th><td>62.5</td><td>6.76981+192.434im</td></tr><tr><th>27</th><td>65.0</td><td>7.2609+203.72im</td></tr><tr><th>28</th><td>67.5</td><td>7.81257+215.666im</td></tr><tr><th>29</th><td>70.0</td><td>8.43672+228.365im</td></tr><tr><th>30</th><td>72.5</td><td>9.1482+241.931im</td></tr><tr><th>&vellip;</th><td>&vellip;</td><td>&vellip;</td></tr></tbody></table>"
      ],
      "text/plain": [
       "801×2 DataFrame\n",
       "│ Row │ frq     │ imp                │\n",
       "│     │ \u001b[90mFloat64\u001b[39m │ \u001b[90mComplex{Float64}\u001b[39m   │\n",
       "├─────┼─────────┼────────────────────┤\n",
       "│ 1   │ 0.0     │ 0.0+0.0im          │\n",
       "│ 2   │ 2.5     │ 0.744428+7.08113im │\n",
       "│ 3   │ 5.0     │ 1.09453+13.6905im  │\n",
       "│ 4   │ 7.5     │ 1.36822+20.2368im  │\n",
       "│ 5   │ 10.0    │ 1.60393+26.7699im  │\n",
       "│ 6   │ 12.5    │ 1.81714+33.3151im  │\n",
       "│ 7   │ 15.0    │ 2.0161+39.8903im   │\n",
       "│ 8   │ 17.5    │ 2.20599+46.5106im  │\n",
       "│ 9   │ 20.0    │ 2.39042+53.1898im  │\n",
       "│ 10  │ 22.5    │ 2.57215+59.9414im  │\n",
       "⋮\n",
       "│ 791 │ 1975.0  │ 1345.4-885.484im   │\n",
       "│ 792 │ 1977.5  │ 1090.04-932.627im  │\n",
       "│ 793 │ 1980.0  │ 880.605-919.542im  │\n",
       "│ 794 │ 1982.5  │ 716.418-875.798im  │\n",
       "│ 795 │ 1985.0  │ 589.685-819.001im  │\n",
       "│ 796 │ 1987.5  │ 491.911-758.57im   │\n",
       "│ 797 │ 1990.0  │ 415.962-699.165im  │\n",
       "│ 798 │ 1992.5  │ 356.365-642.884im  │\n",
       "│ 799 │ 1995.0  │ 309.068-590.502im  │\n",
       "│ 800 │ 1997.5  │ 271.105-542.138im  │\n",
       "│ 801 │ 2000.0  │ 240.303-497.603im  │"
      ]
     },
     "execution_count": 21,
     "metadata": {},
     "output_type": "execute_result"
    }
   ],
   "source": [
    "@time Calcimp.calcimp(\"../sample/taper.xmen\")"
   ]
  },
  {
   "cell_type": "code",
   "execution_count": 23,
   "metadata": {},
   "outputs": [
    {
     "ename": "LoadError",
     "evalue": "syntax: extra token \"1\" after end of expression",
     "output_type": "error",
     "traceback": [
      "syntax: extra token \"1\" after end of expression",
      ""
     ]
    }
   ],
   "source": []
  },
  {
   "cell_type": "code",
   "execution_count": null,
   "metadata": {},
   "outputs": [],
   "source": []
  }
 ],
 "metadata": {
  "kernelspec": {
   "display_name": "Julia 1.0.1",
   "language": "julia",
   "name": "julia-1.0"
  },
  "language_info": {
   "file_extension": ".jl",
   "mimetype": "application/julia",
   "name": "julia",
   "version": "1.0.1"
  },
  "toc": {
   "base_numbering": 1,
   "nav_menu": {},
   "number_sections": true,
   "sideBar": true,
   "skip_h1_title": true,
   "title_cell": "Table of Contents",
   "title_sidebar": "Contents",
   "toc_cell": false,
   "toc_position": {},
   "toc_section_display": true,
   "toc_window_display": false
  }
 },
 "nbformat": 4,
 "nbformat_minor": 2
}
